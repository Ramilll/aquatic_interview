{
 "cells": [
  {
   "cell_type": "code",
   "execution_count": 39,
   "metadata": {},
   "outputs": [],
   "source": [
    "import pandas as pd"
   ]
  },
  {
   "cell_type": "code",
   "execution_count": 40,
   "metadata": {},
   "outputs": [],
   "source": [
    "df = pd.read_csv(\"input.csv\")"
   ]
  },
  {
   "cell_type": "code",
   "execution_count": 41,
   "metadata": {},
   "outputs": [],
   "source": [
    "df[\"Measurement Timestamp\"] = pd.to_datetime(df[\"Measurement Timestamp\"])\n",
    "df.sort_values(by=\"Measurement Timestamp\", inplace=True)\n",
    "df[\"Date\"] = df[\"Measurement Timestamp\"].dt.strftime('%m/%d/%Y')"
   ]
  },
  {
   "cell_type": "code",
   "execution_count": 42,
   "metadata": {},
   "outputs": [],
   "source": [
    "group_df = df.groupby(by=[\"Station Name\", \"Date\"])[\"Air Temperature\"].agg([\"min\", \"max\", \"first\", \"last\"])"
   ]
  },
  {
   "cell_type": "code",
   "execution_count": 43,
   "metadata": {},
   "outputs": [],
   "source": [
    "rename_dict = {\"min\": \"Min Temp\", \"max\": \"Max Temp\", \"first\": \"First Temp\", \"last\": \"Last Temp\"}\n",
    "group_df.rename(columns=rename_dict, inplace=True)"
   ]
  },
  {
   "cell_type": "code",
   "execution_count": 49,
   "metadata": {},
   "outputs": [
    {
     "data": {
      "text/plain": [
       "MultiIndex([('01/01/2016', '63rd Street Weather Station'),\n",
       "            ('01/01/2016',      'Foster Weather Station'),\n",
       "            ('01/01/2016',  'Oak Street Weather Station'),\n",
       "            ('01/02/2016', '63rd Street Weather Station'),\n",
       "            ('01/02/2016',      'Foster Weather Station'),\n",
       "            ('01/02/2016',  'Oak Street Weather Station'),\n",
       "            ('01/03/2016', '63rd Street Weather Station'),\n",
       "            ('01/03/2016',      'Foster Weather Station'),\n",
       "            ('01/03/2016',  'Oak Street Weather Station'),\n",
       "            ('01/04/2016', '63rd Street Weather Station'),\n",
       "            ...\n",
       "            ('12/28/2016',  'Oak Street Weather Station'),\n",
       "            ('12/29/2016', '63rd Street Weather Station'),\n",
       "            ('12/29/2016',      'Foster Weather Station'),\n",
       "            ('12/29/2016',  'Oak Street Weather Station'),\n",
       "            ('12/30/2016', '63rd Street Weather Station'),\n",
       "            ('12/30/2016',      'Foster Weather Station'),\n",
       "            ('12/30/2016',  'Oak Street Weather Station'),\n",
       "            ('12/31/2016', '63rd Street Weather Station'),\n",
       "            ('12/31/2016',      'Foster Weather Station'),\n",
       "            ('12/31/2016',  'Oak Street Weather Station')],\n",
       "           names=['Date', 'Station Name'], length=1065)"
      ]
     },
     "execution_count": 49,
     "metadata": {},
     "output_type": "execute_result"
    }
   ],
   "source": [
    "group_df.index"
   ]
  },
  {
   "cell_type": "code",
   "execution_count": 45,
   "metadata": {},
   "outputs": [],
   "source": [
    "group_df.to_csv(\"output.csv\")"
   ]
  },
  {
   "cell_type": "code",
   "execution_count": 46,
   "metadata": {},
   "outputs": [
    {
     "data": {
      "text/plain": [
       "Index(['Station Name', 'Measurement Timestamp', 'Air Temperature',\n",
       "       'Wet Bulb Temperature', 'Humidity', 'Rain Intensity', 'Interval Rain',\n",
       "       'Total Rain', 'Precipitation Type', 'Wind Direction', 'Wind Speed',\n",
       "       'Maximum Wind Speed', 'Barometric Pressure', 'Solar Radiation',\n",
       "       'Heading', 'Battery Life', 'Measurement Timestamp Label',\n",
       "       'Measurement ID', 'Date'],\n",
       "      dtype='object')"
      ]
     },
     "execution_count": 46,
     "metadata": {},
     "output_type": "execute_result"
    }
   ],
   "source": [
    "df.columns"
   ]
  },
  {
   "cell_type": "code",
   "execution_count": null,
   "metadata": {},
   "outputs": [],
   "source": []
  }
 ],
 "metadata": {
  "language_info": {
   "name": "python"
  },
  "orig_nbformat": 4
 },
 "nbformat": 4,
 "nbformat_minor": 2
}
